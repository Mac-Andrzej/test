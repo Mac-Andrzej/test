{
  "cells": [
    {
      "cell_type": "markdown",
      "metadata": {
        "id": "view-in-github",
        "colab_type": "text"
      },
      "source": [
        "<a href=\"https://colab.research.google.com/github/Mac-Andrzej/test/blob/master/rel_sols.ipynb\" target=\"_parent\"><img src=\"https://colab.research.google.com/assets/colab-badge.svg\" alt=\"Open In Colab\"/></a>"
      ]
    },
    {
      "cell_type": "code",
      "execution_count": 1,
      "metadata": {
        "id": "LZQ-v7BW0RSY"
      },
      "outputs": [],
      "source": [
        "from fractions import Fraction\n",
        "from IPython.display import display, Math"
      ]
    },
    {
      "cell_type": "code",
      "execution_count": 2,
      "metadata": {
        "id": "DWsW8Yur0RSa"
      },
      "outputs": [],
      "source": [
        "Fraction._repr_pretty_ = lambda self, *args: \\\n",
        "    display(Math(rf\"$$\\frac{{{self.numerator}}}{{{self.denominator}}}\"))"
      ]
    },
    {
      "cell_type": "code",
      "execution_count": 3,
      "metadata": {
        "colab": {
          "base_uri": "https://localhost:8080/",
          "height": 51
        },
        "id": "FMZy32fp0RSb",
        "outputId": "112fa656-deb3-47d3-c11f-f3359ee63a31"
      },
      "outputs": [
        {
          "output_type": "display_data",
          "data": {
            "text/plain": [
              "<IPython.core.display.Math object>"
            ],
            "text/latex": "$\\displaystyle \\frac{35}{11}$"
          },
          "metadata": {}
        },
        {
          "output_type": "execute_result",
          "data": {
            "text/plain": []
          },
          "metadata": {},
          "execution_count": 3
        }
      ],
      "source": [
        "1/Fraction(11,13) +2"
      ]
    },
    {
      "cell_type": "code",
      "execution_count": 4,
      "metadata": {
        "id": "pjeXQ9rK0RSb"
      },
      "outputs": [],
      "source": [
        "def Lambda_1(k, p):\n",
        "  return Fraction((1+p)*(k*p-2),2)"
      ]
    },
    {
      "cell_type": "code",
      "execution_count": 5,
      "metadata": {
        "id": "fOueaH2N0RSb"
      },
      "outputs": [],
      "source": [
        "def Lambda_0(k, p):\n",
        "  return Fraction((k*p-1)*(1+k*(1+p)),2*k)"
      ]
    },
    {
      "cell_type": "code",
      "execution_count": 6,
      "metadata": {
        "id": "HqwUFinE0RSb"
      },
      "outputs": [],
      "source": [
        "def Lambda_7(k, p):\n",
        "  return Fraction((12*p-5)*(13+12*p),72)"
      ]
    },
    {
      "cell_type": "code",
      "execution_count": 7,
      "metadata": {
        "id": "gN96Dxnu0RSc"
      },
      "outputs": [],
      "source": [
        "my_set = set()"
      ]
    },
    {
      "cell_type": "code",
      "execution_count": 8,
      "metadata": {
        "colab": {
          "base_uri": "https://localhost:8080/"
        },
        "id": "qy2ozJ2f0RSc",
        "outputId": "6b8fbba4-9fc1-48e7-f90b-42d25645692c"
      },
      "outputs": [
        {
          "output_type": "stream",
          "name": "stdout",
          "text": [
            "403/3\n",
            "322/3\n",
            "250/3\n",
            "187/3\n",
            "133/3\n",
            "88/3\n",
            "52/3\n",
            "25/3\n",
            "7/3\n",
            "-2/3\n",
            "-2/3\n",
            "7/3\n",
            "25/3\n",
            "52/3\n",
            "88/3\n",
            "133/3\n",
            "187/3\n",
            "250/3\n",
            "322/3\n",
            "403/3\n"
          ]
        }
      ],
      "source": [
        "for p in range(-10,10): print(Lambda_0(3,p))\n"
      ]
    },
    {
      "cell_type": "code",
      "execution_count": 9,
      "metadata": {
        "id": "SRwZDlVo0RSc"
      },
      "outputs": [],
      "source": [
        "for p in range(-10,10): my_set.add(Lambda_1(3,p))\n"
      ]
    },
    {
      "cell_type": "code",
      "execution_count": 10,
      "metadata": {
        "colab": {
          "base_uri": "https://localhost:8080/",
          "height": 714
        },
        "id": "SiwqA8YD0RSc",
        "outputId": "63b60c55-e4e0-4e1f-fa2e-f375e9bb4a52"
      },
      "outputs": [
        {
          "output_type": "display_data",
          "data": {
            "text/plain": [
              "<IPython.core.display.Math object>"
            ],
            "text/latex": "$\\displaystyle \\frac{-1}{1}$"
          },
          "metadata": {}
        },
        {
          "output_type": "display_data",
          "data": {
            "text/plain": [
              "<IPython.core.display.Math object>"
            ],
            "text/latex": "$\\displaystyle \\frac{0}{1}$"
          },
          "metadata": {}
        },
        {
          "output_type": "display_data",
          "data": {
            "text/plain": [
              "<IPython.core.display.Math object>"
            ],
            "text/latex": "$\\displaystyle \\frac{1}{1}$"
          },
          "metadata": {}
        },
        {
          "output_type": "display_data",
          "data": {
            "text/plain": [
              "<IPython.core.display.Math object>"
            ],
            "text/latex": "$\\displaystyle \\frac{4}{1}$"
          },
          "metadata": {}
        },
        {
          "output_type": "display_data",
          "data": {
            "text/plain": [
              "<IPython.core.display.Math object>"
            ],
            "text/latex": "$\\displaystyle \\frac{6}{1}$"
          },
          "metadata": {}
        },
        {
          "output_type": "display_data",
          "data": {
            "text/plain": [
              "<IPython.core.display.Math object>"
            ],
            "text/latex": "$\\displaystyle \\frac{11}{1}$"
          },
          "metadata": {}
        },
        {
          "output_type": "display_data",
          "data": {
            "text/plain": [
              "<IPython.core.display.Math object>"
            ],
            "text/latex": "$\\displaystyle \\frac{14}{1}$"
          },
          "metadata": {}
        },
        {
          "output_type": "display_data",
          "data": {
            "text/plain": [
              "<IPython.core.display.Math object>"
            ],
            "text/latex": "$\\displaystyle \\frac{21}{1}$"
          },
          "metadata": {}
        },
        {
          "output_type": "display_data",
          "data": {
            "text/plain": [
              "<IPython.core.display.Math object>"
            ],
            "text/latex": "$\\displaystyle \\frac{25}{1}$"
          },
          "metadata": {}
        },
        {
          "output_type": "display_data",
          "data": {
            "text/plain": [
              "<IPython.core.display.Math object>"
            ],
            "text/latex": "$\\displaystyle \\frac{34}{1}$"
          },
          "metadata": {}
        },
        {
          "output_type": "display_data",
          "data": {
            "text/plain": [
              "<IPython.core.display.Math object>"
            ],
            "text/latex": "$\\displaystyle \\frac{39}{1}$"
          },
          "metadata": {}
        },
        {
          "output_type": "display_data",
          "data": {
            "text/plain": [
              "<IPython.core.display.Math object>"
            ],
            "text/latex": "$\\displaystyle \\frac{50}{1}$"
          },
          "metadata": {}
        },
        {
          "output_type": "display_data",
          "data": {
            "text/plain": [
              "<IPython.core.display.Math object>"
            ],
            "text/latex": "$\\displaystyle \\frac{56}{1}$"
          },
          "metadata": {}
        },
        {
          "output_type": "display_data",
          "data": {
            "text/plain": [
              "<IPython.core.display.Math object>"
            ],
            "text/latex": "$\\displaystyle \\frac{69}{1}$"
          },
          "metadata": {}
        },
        {
          "output_type": "display_data",
          "data": {
            "text/plain": [
              "<IPython.core.display.Math object>"
            ],
            "text/latex": "$\\displaystyle \\frac{76}{1}$"
          },
          "metadata": {}
        },
        {
          "output_type": "display_data",
          "data": {
            "text/plain": [
              "<IPython.core.display.Math object>"
            ],
            "text/latex": "$\\displaystyle \\frac{91}{1}$"
          },
          "metadata": {}
        },
        {
          "output_type": "display_data",
          "data": {
            "text/plain": [
              "<IPython.core.display.Math object>"
            ],
            "text/latex": "$\\displaystyle \\frac{99}{1}$"
          },
          "metadata": {}
        },
        {
          "output_type": "display_data",
          "data": {
            "text/plain": [
              "<IPython.core.display.Math object>"
            ],
            "text/latex": "$\\displaystyle \\frac{116}{1}$"
          },
          "metadata": {}
        },
        {
          "output_type": "display_data",
          "data": {
            "text/plain": [
              "<IPython.core.display.Math object>"
            ],
            "text/latex": "$\\displaystyle \\frac{125}{1}$"
          },
          "metadata": {}
        },
        {
          "output_type": "display_data",
          "data": {
            "text/plain": [
              "<IPython.core.display.Math object>"
            ],
            "text/latex": "$\\displaystyle \\frac{144}{1}$"
          },
          "metadata": {}
        },
        {
          "output_type": "execute_result",
          "data": {
            "text/plain": [
              "[, , , , , , , , , , , , , , , , , , , ]"
            ]
          },
          "metadata": {},
          "execution_count": 10
        }
      ],
      "source": [
        "sorted(my_set)"
      ]
    },
    {
      "cell_type": "code",
      "execution_count": 11,
      "metadata": {
        "colab": {
          "base_uri": "https://localhost:8080/"
        },
        "id": "HdDQM2bh0RSd",
        "outputId": "3d512e80-33f0-46e8-8742-61f040a1dd36"
      },
      "outputs": [
        {
          "output_type": "stream",
          "name": "stdout",
          "text": [
            "[[3, 2, 2], [3, 3, 1], [4, 2, 1], [5, 1, 1]]\n"
          ]
        }
      ],
      "source": [
        "# Recursive function to find all non-increasing sequences of n element   that sum to target\n",
        "def find_rels(n, target, s):\n",
        "    if n == 0:\n",
        "        return [[]] if target == 0 else []\n",
        "    if target == 0:\n",
        "        return []\n",
        "\n",
        "    results = []\n",
        "    for elem in s:\n",
        "        if target - elem >= 0:\n",
        "            sub_results = find_rels(n - 1, target - elem, tuple(x for x in s if x <= elem))\n",
        "            results.extend([[elem] + comb for comb in sub_results])\n",
        "\n",
        "    return results\n",
        "\n",
        "# Convert the set to a tuple before passing to the function\n",
        "solutions = find_rels(3, 7, tuple({1, 2, 3, 4, 5}))\n",
        "print(solutions)"
      ]
    },
    {
      "cell_type": "code",
      "execution_count": 12,
      "metadata": {
        "colab": {
          "base_uri": "https://localhost:8080/"
        },
        "id": "ypTYufXd0RSd",
        "outputId": "2e25bbe4-79ee-4480-a0eb-6abde1bf7f53"
      },
      "outputs": [
        {
          "output_type": "stream",
          "name": "stdout",
          "text": [
            "[[3, 2, 2], [3, 3, 1], [4, 2, 1], [5, 1, 1]]\n"
          ]
        }
      ],
      "source": [
        "from functools import lru_cache\n",
        "\n",
        "@lru_cache(None)\n",
        "def find_rels_n(n, target, s):\n",
        "    if n == 0:\n",
        "        return [[]] if target == 0 else []\n",
        "    if target == 0:\n",
        "        return []\n",
        "\n",
        "    results = []\n",
        "    for elem in s:\n",
        "        if target - elem >= 0:\n",
        "            sub_results = find_rels(n - 1, target - elem, tuple(x for x in s if x <= elem))\n",
        "            results.extend([[elem] + comb for comb in sub_results])\n",
        "\n",
        "    return results\n",
        "\n",
        "# Convert the set to a tuple before passing to the function\n",
        "solutions = find_rels(3, 7, tuple({1, 2, 3, 4, 5}))\n",
        "print(solutions)"
      ]
    },
    {
      "cell_type": "code",
      "execution_count": 13,
      "metadata": {
        "id": "hAmYsSuY0RSd"
      },
      "outputs": [],
      "source": [
        "S = {1, Fraction(1,2), Fraction(11,10), Fraction(22,10),Fraction(33,10),Fraction(30,12)}\n",
        "\n",
        "SS = sorted(S, reverse=True)\n"
      ]
    },
    {
      "cell_type": "code",
      "execution_count": 14,
      "metadata": {
        "colab": {
          "base_uri": "https://localhost:8080/",
          "height": 204
        },
        "id": "A5EhYxJa0RSe",
        "outputId": "1983bcaf-063f-40e5-a6f0-c850c8cf321a"
      },
      "outputs": [
        {
          "output_type": "display_data",
          "data": {
            "text/plain": [
              "<IPython.core.display.Math object>"
            ],
            "text/latex": "$\\displaystyle \\frac{33}{10}$"
          },
          "metadata": {}
        },
        {
          "output_type": "display_data",
          "data": {
            "text/plain": [
              "<IPython.core.display.Math object>"
            ],
            "text/latex": "$\\displaystyle \\frac{5}{2}$"
          },
          "metadata": {}
        },
        {
          "output_type": "display_data",
          "data": {
            "text/plain": [
              "<IPython.core.display.Math object>"
            ],
            "text/latex": "$\\displaystyle \\frac{11}{5}$"
          },
          "metadata": {}
        },
        {
          "output_type": "display_data",
          "data": {
            "text/plain": [
              "<IPython.core.display.Math object>"
            ],
            "text/latex": "$\\displaystyle \\frac{11}{10}$"
          },
          "metadata": {}
        },
        {
          "output_type": "display_data",
          "data": {
            "text/plain": [
              "<IPython.core.display.Math object>"
            ],
            "text/latex": "$\\displaystyle \\frac{1}{2}$"
          },
          "metadata": {}
        },
        {
          "output_type": "execute_result",
          "data": {
            "text/plain": [
              "[, , , , 1, ]"
            ]
          },
          "metadata": {},
          "execution_count": 14
        }
      ],
      "source": [
        "SS"
      ]
    },
    {
      "cell_type": "code",
      "execution_count": 15,
      "metadata": {
        "id": "gWj-txsy0RSe"
      },
      "outputs": [],
      "source": [
        "N = 35  # Number of variables\n",
        "c = 30"
      ]
    },
    {
      "cell_type": "code",
      "execution_count": 16,
      "metadata": {
        "id": "o-gkwNcD0RSe"
      },
      "outputs": [],
      "source": [
        "solutions = find_rels(N, c, SS)\n"
      ]
    },
    {
      "cell_type": "code",
      "execution_count": 17,
      "metadata": {
        "colab": {
          "base_uri": "https://localhost:8080/"
        },
        "id": "Q2KYcsmp0RSe",
        "outputId": "2bba9a9e-0095-4014-8419-82d2d3401d97"
      },
      "outputs": [
        {
          "output_type": "execute_result",
          "data": {
            "text/plain": [
              "35"
            ]
          },
          "metadata": {},
          "execution_count": 17
        }
      ],
      "source": [
        "len(solutions[1])"
      ]
    },
    {
      "cell_type": "code",
      "execution_count": 18,
      "metadata": {
        "colab": {
          "base_uri": "https://localhost:8080/"
        },
        "id": "Z0AgU6cw0RSe",
        "outputId": "7f2a4fec-185b-480f-892b-a3e6c776ef5d"
      },
      "outputs": [
        {
          "output_type": "stream",
          "name": "stdout",
          "text": [
            "[Fraction(33, 10), Fraction(33, 10), Fraction(33, 10), Fraction(11, 5), Fraction(11, 10), Fraction(11, 10), Fraction(11, 10), Fraction(11, 10), Fraction(1, 2), Fraction(1, 2), Fraction(1, 2), Fraction(1, 2), Fraction(1, 2), Fraction(1, 2), Fraction(1, 2), Fraction(1, 2), Fraction(1, 2), Fraction(1, 2), Fraction(1, 2), Fraction(1, 2), Fraction(1, 2), Fraction(1, 2), Fraction(1, 2), Fraction(1, 2), Fraction(1, 2), Fraction(1, 2), Fraction(1, 2), Fraction(1, 2), Fraction(1, 2), Fraction(1, 2), Fraction(1, 2), Fraction(1, 2), Fraction(1, 2), Fraction(1, 2), Fraction(1, 2)]\n"
          ]
        }
      ],
      "source": [
        "print(solutions[1])"
      ]
    },
    {
      "cell_type": "code",
      "execution_count": 18,
      "metadata": {
        "id": "xKwdfZpC0RSf"
      },
      "outputs": [],
      "source": []
    }
  ],
  "metadata": {
    "kernelspec": {
      "display_name": "nmr",
      "language": "python",
      "name": "python3"
    },
    "language_info": {
      "codemirror_mode": {
        "name": "ipython",
        "version": 3
      },
      "file_extension": ".py",
      "mimetype": "text/x-python",
      "name": "python",
      "nbconvert_exporter": "python",
      "pygments_lexer": "ipython3",
      "version": "3.12.7"
    },
    "colab": {
      "provenance": [],
      "include_colab_link": true
    }
  },
  "nbformat": 4,
  "nbformat_minor": 0
}